{
 "cells": [
  {
   "cell_type": "code",
   "execution_count": 1,
   "metadata": {},
   "outputs": [],
   "source": [
    "%matplotlib inline\n",
    "from config_calc import *\n",
    "\n",
    "import matplotlib\n",
    "import matplotlib.pyplot as plt\n",
    "from cartopy.util import add_cyclic_point\n",
    "import matplotlib.gridspec as gridspec\n",
    "plt.rcParams['mathtext.default']='regular'\n",
    "\n",
    "import plot_tools\n",
    "import marbl_diag"
   ]
  },
  {
   "cell_type": "code",
   "execution_count": 2,
   "metadata": {},
   "outputs": [
    {
     "data": {
      "text/plain": [
       "<xarray.Dataset>\n",
       "Dimensions:               (d2: 2, lat_aux_grid: 395, moc_comp: 3, moc_z: 61, time: 12, transport_comp: 5, transport_reg: 2, z_w: 60, z_w_bot: 60, z_w_top: 60)\n",
       "Coordinates:\n",
       "  * z_w_bot               (z_w_bot) float32 1000.0 2000.0 3000.0 4000.0 ...\n",
       "  * z_w_top               (z_w_top) float32 0.0 1000.0 2000.0 3000.0 4000.0 ...\n",
       "  * moc_z                 (moc_z) float32 0.0 1000.0 2000.0 3000.0 4000.0 ...\n",
       "  * lat_aux_grid          (lat_aux_grid) float32 -79.4882 -78.9529 -78.4187 ...\n",
       "  * z_w                   (z_w) float32 0.0 1000.0 2000.0 3000.0 4000.0 ...\n",
       "  * time                  (time) float64 396.0 424.0 455.0 485.0 516.0 546.0 ...\n",
       "Dimensions without coordinates: d2, moc_comp, transport_comp, transport_reg\n",
       "Data variables:\n",
       "    moc_components        (moc_comp) |S384 'Eulerian Mean' ...\n",
       "    transport_components  (transport_comp) |S384 'Total' ...\n",
       "    transport_regions     (transport_reg) |S384 'Global Ocean - Marginal Seas' ...\n",
       "    dz                    float64 1e+03\n",
       "    dzw                   (z_w) float64 500.0 1e+03 1e+03 1e+03 1e+03 1e+03 ...\n",
       "    ULONG                 float64 185.6\n",
       "    ULAT                  float64 2.995\n",
       "    TLONG                 float64 185.8\n",
       "    TLAT                  float64 2.792\n",
       "    KMT                   float64 34.57\n",
       "    KMU                   float64 33.14\n",
       "    REGION_MASK           float64 2.312\n",
       "    UAREA                 float64 4.109e+13\n",
       "    TAREA                 float64 4.109e+13\n",
       "    HU                    float64 2.307e+05\n",
       "    HT                    float64 2.446e+05\n",
       "    DXU                   float64 9.203e+06\n",
       "    DYU                   float64 4.824e+06\n",
       "    DXT                   float64 9.203e+06\n",
       "    DYT                   float64 4.824e+06\n",
       "    HTN                   float64 9.203e+06\n",
       "    HTE                   float64 4.824e+06\n",
       "    HUS                   float64 9.205e+06\n",
       "    HUW                   float64 4.824e+06\n",
       "    ANGLE                 float64 0.0004602\n",
       "    ANGLET                float64 6.531e-11\n",
       "    days_in_norm_year     float64 365.0\n",
       "    grav                  float64 980.6\n",
       "    omega                 float64 7.292e-05\n",
       "    radius                float64 6.371e+08\n",
       "    cp_sw                 float64 3.996e+07\n",
       "    sound                 float64 1.5e+05\n",
       "    vonkar                float64 0.4\n",
       "    cp_air                float64 1.005e+03\n",
       "    rho_air               float64 1.292\n",
       "    rho_sw                float64 1.026\n",
       "    rho_fw                float64 1.0\n",
       "    stefan_boltzmann      float64 5.67e-08\n",
       "    latent_heat_vapor     float64 2.501e+06\n",
       "    latent_heat_fusion    float64 3.337e+09\n",
       "    ocn_ref_salinity      float64 34.7\n",
       "    sea_ice_salinity      float64 4.0\n",
       "    T0_Kelvin             float64 273.1\n",
       "    salt_to_ppt           float64 1e+03\n",
       "    ppt_to_salt           float64 0.001\n",
       "    mass_to_Sv            float64 1e-12\n",
       "    heat_to_PW            float64 4.186e-15\n",
       "    salt_to_Svppt         float64 1e-09\n",
       "    salt_to_mmday         float64 3.154e+05\n",
       "    momentum_factor       float64 10.0\n",
       "    hflux_factor          float64 2.439e-05\n",
       "    fwflux_factor         float64 0.0001\n",
       "    salinity_factor       float64 -0.00347\n",
       "    sflux_factor          float64 0.1\n",
       "    nsurface_t            float64 8.61e+04\n",
       "    nsurface_u            float64 8.297e+04\n",
       "    time_bound            (time, d2) float64 365.0 396.0 396.0 424.0 424.0 ...\n",
       "    pCO2SURF              (time) float64 287.9 297.5 303.2 306.2 305.4 305.8 ...\n",
       "    year                  (time) int64 1 1 1 1 1 1 1 1 1 1 1 1\n",
       "    yearfrac              (time) float64 1.085 1.077 1.085 1.082 1.085 1.082 ...\n",
       "    month                 (time) int64 1 2 3 4 5 6 7 8 9 10 11 12\n",
       "    NPP                   (time) float64 1.131e-05 9.37e-06 8.065e-06 ..."
      ]
     },
     "execution_count": 2,
     "metadata": {},
     "output_type": "execute_result"
    }
   ],
   "source": [
    "marbl_diag.clobber = False # set to true to recompute\n",
    "category_spec = {\n",
    "        'process_name' : 'aavgsurf',\n",
    "        'processes' : [marbl_diag.toolbelt['aavgsurf']],\n",
    "        'variables' : ['pCO2SURF','NPP:photoC_sp,photoC_diat,photoC_diaz'],\n",
    "        'collection_name' : 'surface_prod',\n",
    "        'stream' : 'monthly'\n",
    "    }\n",
    "ds = marbl_diag.open_transformed_hist_dataset(**category_spec)\n",
    "ds"
   ]
  },
  {
   "cell_type": "code",
   "execution_count": 3,
   "metadata": {},
   "outputs": [
    {
     "data": {
      "text/plain": [
       "[<matplotlib.lines.Line2D at 0x2b98e30a06d0>]"
      ]
     },
     "execution_count": 3,
     "metadata": {},
     "output_type": "execute_result"
    },
    {
     "data": {
      "image/png": "[encoded data removed]",
      "text/plain": [
       "<matplotlib.figure.Figure at 0x2b98e3006e50>"
      ]
     },
     "metadata": {},
     "output_type": "display_data"
    }
   ],
   "source": [
    "ds.NPP.plot()"
   ]
  },
  {
   "cell_type": "code",
   "execution_count": 4,
   "metadata": {},
   "outputs": [
    {
     "data": {
      "text/plain": [
       "[<matplotlib.lines.Line2D at 0x2b98e561dad0>]"
      ]
     },
     "execution_count": 4,
     "metadata": {},
     "output_type": "execute_result"
    },
    {
     "data": {
      "image/png": "[encoded data removed]",
      "text/plain": [
       "<matplotlib.figure.Figure at 0x2b98e5581850>"
      ]
     },
     "metadata": {},
     "output_type": "display_data"
    }
   ],
   "source": [
    "ds.pCO2SURF.plot()"
   ]
  },
  {
   "cell_type": "code",
   "execution_count": 5,
   "metadata": {},
   "outputs": [],
   "source": []
  }
 ],
 "metadata": {
  "kernelspec": {
   "display_name": "Python 2",
   "language": "python",
   "name": "python2"
  },
  "language_info": {
   "codemirror_mode": {
    "name": "ipython",
    "version": 2
   },
   "file_extension": ".py",
   "mimetype": "text/x-python",
   "name": "python",
   "nbconvert_exporter": "python",
   "pygments_lexer": "ipython2",
   "version": "2.7.13"
  }
 },
 "nbformat": 4,
 "nbformat_minor": 2
}
