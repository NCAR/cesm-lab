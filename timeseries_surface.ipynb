{
 "cells": [
  {
   "cell_type": "code",
   "execution_count": null,
   "metadata": {},
   "outputs": [],
   "source": [
    "%matplotlib inline\n",
    "from config_calc import *\n",
    "\n",
    "import matplotlib\n",
    "import matplotlib.pyplot as plt\n",
    "from cartopy.util import add_cyclic_point\n",
    "import matplotlib.gridspec as gridspec\n",
    "plt.rcParams['mathtext.default']='regular'\n",
    "\n",
    "import plot_tools\n",
    "import marbl_diag"
   ]
  },
  {
   "cell_type": "code",
   "execution_count": null,
   "metadata": {},
   "outputs": [],
   "source": [
    "category_spec = {\n",
    "        'process_name' : 'aavgsurf',\n",
    "        'processes' : [toolbelt['aavgsurf']],\n",
    "        'variables' : ['pCO2SURF','NPP:photoC_sp,photoC_diat,photoC_diaz'],\n",
    "        'stream' : 'monthly'\n",
    "    }\n",
    "ds = marbl_diag.open_transformed_dataset(**category_spec)\n",
    "ds"
   ]
  }
 ],
 "metadata": {
  "kernelspec": {
   "display_name": "Python 2",
   "language": "python",
   "name": "python2"
  },
  "language_info": {
   "codemirror_mode": {
    "name": "ipython",
    "version": 2
   },
   "file_extension": ".py",
   "mimetype": "text/x-python",
   "name": "python",
   "nbconvert_exporter": "python",
   "pygments_lexer": "ipython2",
   "version": "2.7.13"
  }
 },
 "nbformat": 4,
 "nbformat_minor": 2
}
